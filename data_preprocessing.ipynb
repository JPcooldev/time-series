{
  "cells": [
    {
      "cell_type": "code",
      "execution_count": null,
      "metadata": {
        "id": "RypQryGjsckz"
      },
      "outputs": [],
      "source": [
        "import pandas as pd\n",
        "import numpy as np\n",
        "import matplotlib.pyplot as plt"
      ]
    },
    {
      "cell_type": "code",
      "execution_count": null,
      "metadata": {
        "id": "jGuy34rlsck0",
        "outputId": "1273ddc7-e7ae-4223-c97b-1743aded486b"
      },
      "outputs": [
        {
          "name": "stdout",
          "output_type": "stream",
          "text": [
            "Downloading from https://www.kaggle.com/api/v1/datasets/download/svaningelgem/crypto-currencies-daily-prices?dataset_version_number=591...\n"
          ]
        },
        {
          "name": "stderr",
          "output_type": "stream",
          "text": [
            "100%|██████████| 3.12M/3.12M [00:00<00:00, 3.87MB/s]"
          ]
        },
        {
          "name": "stdout",
          "output_type": "stream",
          "text": [
            "Extracting files...\n"
          ]
        },
        {
          "name": "stderr",
          "output_type": "stream",
          "text": [
            "\n"
          ]
        }
      ],
      "source": [
        "import kagglehub\n",
        "\n",
        "# Download latest version\n",
        "path = kagglehub.dataset_download(\"svaningelgem/crypto-currencies-daily-prices\")"
      ]
    },
    {
      "cell_type": "code",
      "execution_count": null,
      "metadata": {
        "id": "6jeNwSdZsck1"
      },
      "outputs": [],
      "source": [
        "import os\n",
        "\n",
        "data_list = os.listdir(path)\n",
        "df = pd.DataFrame()\n",
        "\n",
        "for it in data_list:\n",
        "    name = it.split('.')[0]\n",
        "    df = pd.concat([df,pd.read_csv(os.path.join(path,it))], axis=0)"
      ]
    },
    {
      "cell_type": "code",
      "execution_count": null,
      "metadata": {
        "id": "1lk6RhA_sck2",
        "outputId": "43a3085c-a2e1-4a4b-b5fd-7cce68f2f9c1"
      },
      "outputs": [
        {
          "data": {
            "text/html": [
              "<div>\n",
              "<style scoped>\n",
              "    .dataframe tbody tr th:only-of-type {\n",
              "        vertical-align: middle;\n",
              "    }\n",
              "\n",
              "    .dataframe tbody tr th {\n",
              "        vertical-align: top;\n",
              "    }\n",
              "\n",
              "    .dataframe thead th {\n",
              "        text-align: right;\n",
              "    }\n",
              "</style>\n",
              "<table border=\"1\" class=\"dataframe\">\n",
              "  <thead>\n",
              "    <tr style=\"text-align: right;\">\n",
              "      <th></th>\n",
              "      <th>ticker</th>\n",
              "      <th>date</th>\n",
              "      <th>open</th>\n",
              "      <th>high</th>\n",
              "      <th>low</th>\n",
              "      <th>close</th>\n",
              "    </tr>\n",
              "  </thead>\n",
              "  <tbody>\n",
              "    <tr>\n",
              "      <th>0</th>\n",
              "      <td>HBAR</td>\n",
              "      <td>2019-09-20</td>\n",
              "      <td>0.05058</td>\n",
              "      <td>0.05638</td>\n",
              "      <td>0.04986</td>\n",
              "      <td>0.05159</td>\n",
              "    </tr>\n",
              "    <tr>\n",
              "      <th>1</th>\n",
              "      <td>HBAR</td>\n",
              "      <td>2019-09-21</td>\n",
              "      <td>0.05159</td>\n",
              "      <td>0.05484</td>\n",
              "      <td>0.04545</td>\n",
              "      <td>0.04814</td>\n",
              "    </tr>\n",
              "    <tr>\n",
              "      <th>2</th>\n",
              "      <td>HBAR</td>\n",
              "      <td>2019-09-22</td>\n",
              "      <td>0.04814</td>\n",
              "      <td>0.04858</td>\n",
              "      <td>0.03844</td>\n",
              "      <td>0.03924</td>\n",
              "    </tr>\n",
              "    <tr>\n",
              "      <th>3</th>\n",
              "      <td>HBAR</td>\n",
              "      <td>2019-09-23</td>\n",
              "      <td>0.03924</td>\n",
              "      <td>0.03924</td>\n",
              "      <td>0.03403</td>\n",
              "      <td>0.03791</td>\n",
              "    </tr>\n",
              "    <tr>\n",
              "      <th>4</th>\n",
              "      <td>HBAR</td>\n",
              "      <td>2019-09-24</td>\n",
              "      <td>0.03791</td>\n",
              "      <td>0.04041</td>\n",
              "      <td>0.02870</td>\n",
              "      <td>0.02947</td>\n",
              "    </tr>\n",
              "  </tbody>\n",
              "</table>\n",
              "</div>"
            ],
            "text/plain": [
              "  ticker        date     open     high      low    close\n",
              "0   HBAR  2019-09-20  0.05058  0.05638  0.04986  0.05159\n",
              "1   HBAR  2019-09-21  0.05159  0.05484  0.04545  0.04814\n",
              "2   HBAR  2019-09-22  0.04814  0.04858  0.03844  0.03924\n",
              "3   HBAR  2019-09-23  0.03924  0.03924  0.03403  0.03791\n",
              "4   HBAR  2019-09-24  0.03791  0.04041  0.02870  0.02947"
            ]
          },
          "execution_count": 7,
          "metadata": {},
          "output_type": "execute_result"
        }
      ],
      "source": [
        "df.head()"
      ]
    },
    {
      "cell_type": "code",
      "execution_count": null,
      "metadata": {
        "id": "zfq1Nqpgsck2",
        "outputId": "3138a39d-514c-4503-b7a5-1ed63ca8c87d"
      },
      "outputs": [
        {
          "data": {
            "text/html": [
              "<div>\n",
              "<style scoped>\n",
              "    .dataframe tbody tr th:only-of-type {\n",
              "        vertical-align: middle;\n",
              "    }\n",
              "\n",
              "    .dataframe tbody tr th {\n",
              "        vertical-align: top;\n",
              "    }\n",
              "\n",
              "    .dataframe thead th {\n",
              "        text-align: right;\n",
              "    }\n",
              "</style>\n",
              "<table border=\"1\" class=\"dataframe\">\n",
              "  <thead>\n",
              "    <tr style=\"text-align: right;\">\n",
              "      <th></th>\n",
              "      <th>ticker</th>\n",
              "      <th>date</th>\n",
              "      <th>open</th>\n",
              "      <th>high</th>\n",
              "      <th>low</th>\n",
              "      <th>close</th>\n",
              "    </tr>\n",
              "  </thead>\n",
              "  <tbody>\n",
              "    <tr>\n",
              "      <th>0</th>\n",
              "      <td>BTC</td>\n",
              "      <td>2010-07-17</td>\n",
              "      <td>0.04951</td>\n",
              "      <td>0.04951</td>\n",
              "      <td>0.04951</td>\n",
              "      <td>0.04951</td>\n",
              "    </tr>\n",
              "    <tr>\n",
              "      <th>1</th>\n",
              "      <td>BTC</td>\n",
              "      <td>2010-07-18</td>\n",
              "      <td>0.04951</td>\n",
              "      <td>0.08585</td>\n",
              "      <td>0.04951</td>\n",
              "      <td>0.08584</td>\n",
              "    </tr>\n",
              "    <tr>\n",
              "      <th>2</th>\n",
              "      <td>BTC</td>\n",
              "      <td>2010-07-19</td>\n",
              "      <td>0.08584</td>\n",
              "      <td>0.09307</td>\n",
              "      <td>0.07723</td>\n",
              "      <td>0.08080</td>\n",
              "    </tr>\n",
              "    <tr>\n",
              "      <th>3</th>\n",
              "      <td>BTC</td>\n",
              "      <td>2010-07-20</td>\n",
              "      <td>0.08080</td>\n",
              "      <td>0.08181</td>\n",
              "      <td>0.07426</td>\n",
              "      <td>0.07474</td>\n",
              "    </tr>\n",
              "    <tr>\n",
              "      <th>4</th>\n",
              "      <td>BTC</td>\n",
              "      <td>2010-07-21</td>\n",
              "      <td>0.07474</td>\n",
              "      <td>0.07921</td>\n",
              "      <td>0.06634</td>\n",
              "      <td>0.07921</td>\n",
              "    </tr>\n",
              "    <tr>\n",
              "      <th>...</th>\n",
              "      <td>...</td>\n",
              "      <td>...</td>\n",
              "      <td>...</td>\n",
              "      <td>...</td>\n",
              "      <td>...</td>\n",
              "      <td>...</td>\n",
              "    </tr>\n",
              "    <tr>\n",
              "      <th>5255</th>\n",
              "      <td>BTC</td>\n",
              "      <td>2024-12-05</td>\n",
              "      <td>98298.20000</td>\n",
              "      <td>104062.00000</td>\n",
              "      <td>93081.30000</td>\n",
              "      <td>96751.80000</td>\n",
              "    </tr>\n",
              "    <tr>\n",
              "      <th>5256</th>\n",
              "      <td>BTC</td>\n",
              "      <td>2024-12-06</td>\n",
              "      <td>96789.00000</td>\n",
              "      <td>102079.00000</td>\n",
              "      <td>95560.60000</td>\n",
              "      <td>100648.00000</td>\n",
              "    </tr>\n",
              "    <tr>\n",
              "      <th>5257</th>\n",
              "      <td>BTC</td>\n",
              "      <td>2024-12-07</td>\n",
              "      <td>100648.00000</td>\n",
              "      <td>100724.00000</td>\n",
              "      <td>99087.60000</td>\n",
              "      <td>99717.70000</td>\n",
              "    </tr>\n",
              "    <tr>\n",
              "      <th>5258</th>\n",
              "      <td>BTC</td>\n",
              "      <td>2024-12-08</td>\n",
              "      <td>99717.70000</td>\n",
              "      <td>100548.00000</td>\n",
              "      <td>98767.20000</td>\n",
              "      <td>100276.00000</td>\n",
              "    </tr>\n",
              "    <tr>\n",
              "      <th>5259</th>\n",
              "      <td>BTC</td>\n",
              "      <td>2024-12-09</td>\n",
              "      <td>100264.00000</td>\n",
              "      <td>101407.00000</td>\n",
              "      <td>94879.20000</td>\n",
              "      <td>96993.10000</td>\n",
              "    </tr>\n",
              "  </tbody>\n",
              "</table>\n",
              "<p>5260 rows × 6 columns</p>\n",
              "</div>"
            ],
            "text/plain": [
              "     ticker        date          open          high          low         close\n",
              "0       BTC  2010-07-17       0.04951       0.04951      0.04951       0.04951\n",
              "1       BTC  2010-07-18       0.04951       0.08585      0.04951       0.08584\n",
              "2       BTC  2010-07-19       0.08584       0.09307      0.07723       0.08080\n",
              "3       BTC  2010-07-20       0.08080       0.08181      0.07426       0.07474\n",
              "4       BTC  2010-07-21       0.07474       0.07921      0.06634       0.07921\n",
              "...     ...         ...           ...           ...          ...           ...\n",
              "5255    BTC  2024-12-05   98298.20000  104062.00000  93081.30000   96751.80000\n",
              "5256    BTC  2024-12-06   96789.00000  102079.00000  95560.60000  100648.00000\n",
              "5257    BTC  2024-12-07  100648.00000  100724.00000  99087.60000   99717.70000\n",
              "5258    BTC  2024-12-08   99717.70000  100548.00000  98767.20000  100276.00000\n",
              "5259    BTC  2024-12-09  100264.00000  101407.00000  94879.20000   96993.10000\n",
              "\n",
              "[5260 rows x 6 columns]"
            ]
          },
          "execution_count": 8,
          "metadata": {},
          "output_type": "execute_result"
        }
      ],
      "source": [
        "df[df['ticker'] == 'BTC']"
      ]
    },
    {
      "cell_type": "code",
      "execution_count": null,
      "metadata": {
        "id": "eEgVC33Osck2"
      },
      "outputs": [],
      "source": [
        "from sklearn.preprocessing import MinMaxScaler\n",
        "\n",
        "# Min-max scaling for numerical columns\n",
        "numeric_columns = ['open', 'high', 'low', 'close']\n",
        "scaler = MinMaxScaler()\n",
        "\n",
        "# Group by ticker and scale each group separately\n",
        "for ticker in df['ticker'].unique():\n",
        "    mask = df['ticker'] == ticker\n",
        "    df.loc[mask, numeric_columns] = scaler.fit_transform(df.loc[mask, numeric_columns])\n"
      ]
    },
    {
      "cell_type": "code",
      "execution_count": null,
      "metadata": {
        "id": "1e_iJCx2sck2",
        "outputId": "6a75da56-2c67-4edd-ca62-17366f3fe94f"
      },
      "outputs": [
        {
          "data": {
            "text/plain": [
              "<Axes: >"
            ]
          },
          "execution_count": 11,
          "metadata": {},
          "output_type": "execute_result"
        },
        {
          "data": {
            "image/png": "[encoded data removed]",
            "text/plain": [
              "<Figure size 640x480 with 1 Axes>"
            ]
          },
          "metadata": {},
          "output_type": "display_data"
        }
      ],
      "source": [
        "df[df['ticker'] == 'BTC'].high.plot()"
      ]
    },
    {
      "cell_type": "code",
      "source": [
        "print('hello')"
      ],
      "metadata": {
        "id": "Kik9rXuHsd0c"
      },
      "execution_count": null,
      "outputs": []
    }
  ],
  "metadata": {
    "kernelspec": {
      "display_name": "llm",
      "language": "python",
      "name": "python3"
    },
    "language_info": {
      "codemirror_mode": {
        "name": "ipython",
        "version": 3
      },
      "file_extension": ".py",
      "mimetype": "text/x-python",
      "name": "python",
      "nbconvert_exporter": "python",
      "pygments_lexer": "ipython3",
      "version": "3.11.5"
    },
    "colab": {
      "provenance": []
    }
  },
  "nbformat": 4,
  "nbformat_minor": 0
}